{
 "cells": [
  {
   "cell_type": "markdown",
   "id": "13895d58",
   "metadata": {},
   "source": [
    "# XOR\n",
    "#### 아래의 데이터를 neural networks에서 backcpropagation을 이용하여 학습시켜라\n",
    "#### 2번째 코드, 편향 바이어스가 변하고 Error 함수 = $ -\\log likeliwood $"
   ]
  },
  {
   "cell_type": "code",
   "execution_count": 9,
   "id": "394ef8c9",
   "metadata": {},
   "outputs": [],
   "source": [
    "import numpy as np\n",
    "import matplotlib.pyplot as plt\n",
    "\n",
    "X = [[0,0],[1,0],[0,1],[1,1]] #bias는 1\n",
    "y = [0,1,1,0]\n",
    "\n",
    "X=np.reshape(X,(4,2))\n",
    "y=np.reshape(y,(4,1))"
   ]
  },
  {
   "cell_type": "markdown",
   "id": "90f1b2fb",
   "metadata": {},
   "source": [
    "#### acitiavation 함수는 sigmoid 함수로 한다."
   ]
  },
  {
   "cell_type": "code",
   "execution_count": 10,
   "id": "3d794737",
   "metadata": {},
   "outputs": [],
   "source": [
    "def sigmoid(x):\n",
    "    return 1/(1+np.exp(-x))"
   ]
  },
  {
   "cell_type": "markdown",
   "id": "d9dece78",
   "metadata": {},
   "source": [
    "#### 외부 코드에 의해 parameter들이 바뀌지 않도록 초기화 시켜준다."
   ]
  },
  {
   "cell_type": "code",
   "execution_count": 11,
   "id": "96c28470",
   "metadata": {},
   "outputs": [],
   "source": [
    "def initialize(inputs,hiddens,outputs):\n",
    "    np.random.seed(1)\n",
    "    w=2*np.random.random((inputs,hiddens))-1\n",
    "    omega=2*np.random.random((hiddens,outputs))-1\n",
    "    b1=np.array([[1]])\n",
    "    b2=np.array([[1]])\n",
    "    parameters={\"w\" : w, \"b1\": b1,\n",
    "                \"omega\" : omega, \"b2\": b2}\n",
    "    return parameters"
   ]
  },
  {
   "cell_type": "markdown",
   "id": "00053270",
   "metadata": {},
   "source": [
    "#### 아래의 코드는 순전파 과정이다. Error 함수를 likeli 함수에 로그를 씌운 뒤, 부호를 바꾼 것을 사용하였다."
   ]
  },
  {
   "cell_type": "code",
   "execution_count": 12,
   "id": "b07e7357",
   "metadata": {},
   "outputs": [],
   "source": [
    "def feedforward(X,y,parameters):\n",
    "    m = X.shape[0]\n",
    "    w = parameters[\"w\"]\n",
    "    omega = parameters[\"omega\"]\n",
    "    b1 = parameters[\"b1\"]\n",
    "    b2 = parameters[\"b2\"]\n",
    "    \n",
    "    h=sigmoid(np.dot(X,w)+b1)\n",
    "    o=sigmoid(np.dot(h,omega)+b2)\n",
    "    \n",
    "    cache = (h, o, b1, b2, w, omega)\n",
    "    loglikeli = np.log(o) * y + np.log(1 - o) * (1 - y)\n",
    "    cost = -np.sum(loglikeli) / m\n",
    "    return cost, cache, o\n"
   ]
  },
  {
   "cell_type": "code",
   "execution_count": 13,
   "id": "f259624e",
   "metadata": {},
   "outputs": [],
   "source": [
    "def BackPropagation(X,y,cache):\n",
    "    m = X.shape[0]\n",
    "    (h, o, b1, b2, w, omega) = cache\n",
    "    \n",
    "    deltao = o - y \n",
    "    domega = np.dot(h.T, deltao) / m  \n",
    "    db2 = np.sum(deltao, axis=1,keepdims=True)\n",
    "    \n",
    "    deltah = np.dot(deltao, omega.T) * h * (1 - h)\n",
    "    dw = np.dot(X.T, deltah)/m\n",
    "    db1 = np.sum(deltah, axis = 1, keepdims = True) / m\n",
    "    \n",
    "    gradients = {\"domega\": domega, \"db2\": db2,\n",
    "                 \"dw\": dw, \"db1\": db1}\n",
    "    return gradients\n"
   ]
  },
  {
   "cell_type": "code",
   "execution_count": 14,
   "id": "7e195da5",
   "metadata": {},
   "outputs": [],
   "source": [
    "def gradientdescent(parameters, gradient, eta):\n",
    "    parameters[\"omega\"] = parameters[\"omega\"] - eta * gradients[\"domega\"]\n",
    "    parameters[\"w\"] = parameters[\"w\"] - eta * gradients[\"dw\"]\n",
    "    parameters[\"b1\"] = parameters[\"b1\"] - eta * gradients[\"db1\"]\n",
    "    parameters[\"b2\"] = parameters[\"b2\"] - eta * gradients[\"db2\"]\n",
    "    return parameters"
   ]
  },
  {
   "cell_type": "code",
   "execution_count": 15,
   "id": "9f1d8ba9",
   "metadata": {},
   "outputs": [
    {
     "data": {
      "image/png": "[encoded data removed]",
      "text/plain": [
       "<Figure size 432x288 with 1 Axes>"
      ]
     },
     "metadata": {
      "needs_background": "light"
     },
     "output_type": "display_data"
    },
    {
     "name": "stdout",
     "output_type": "stream",
     "text": [
      "[[0.00929983]\n",
      " [0.98946513]\n",
      " [0.98967175]\n",
      " [0.00947241]]\n"
     ]
    }
   ],
   "source": [
    "inputs,hiddens,outputs = 2,3,1\n",
    "eta=0.1\n",
    "epoch=1000\n",
    "costs=np.zeros([epoch,1])\n",
    "parameters=initialize(inputs,hiddens,outputs)\n",
    "\n",
    "a,b,c=feedforward(X,y,parameters)\n",
    "\n",
    "for i in range(epoch):\n",
    "    costs[i, 0], cache, A2 = feedforward(X, y, parameters)\n",
    "    gradients = BackPropagation(X, y, cache)\n",
    "    parameters = gradientdescent(parameters, gradients, eta)\n",
    "    \n",
    "plt.figure()\n",
    "plt.plot(costs)\n",
    "plt.xlabel(\"EPOCHS\")\n",
    "plt.ylabel(\"Loss value\")\n",
    "plt.show()\n",
    "\n",
    "cost, cache,pred = feedforward(X,y,parameters)\n",
    "print(pred)"
   ]
  },
  {
   "cell_type": "markdown",
   "id": "3967db0b",
   "metadata": {},
   "source": [
    "#### epoch가 늘어날 수록 error가 줄어드는 것을 확인할 수 있었고, target값과 예측한 y값이 비슷하다는 것을 알 수 있었다."
   ]
  },
  {
   "cell_type": "code",
   "execution_count": 16,
   "id": "7a27c3f7",
   "metadata": {},
   "outputs": [
    {
     "data": {
      "text/plain": [
       "(array([[1.28350429],\n",
       "        [0.65699555],\n",
       "        [0.61959951],\n",
       "        [1.35564169]]),\n",
       " array([[-3.38821008],\n",
       "        [ 5.5477747 ],\n",
       "        [ 5.39267768],\n",
       "        [-3.60400603]]),\n",
       " array([[-0.16208015,  0.45643099, -1.00679185],\n",
       "        [-0.39753917, -0.72407405, -0.82029146]]),\n",
       " array([[-0.7863227 ],\n",
       "        [-0.4890613 ],\n",
       "        [-0.35952118]]))"
      ]
     },
     "execution_count": 16,
     "metadata": {},
     "output_type": "execute_result"
    }
   ],
   "source": [
    "cache[2],cache[3],cache[4],cache[5] #bias 1, bias2, w, omega"
   ]
  },
  {
   "cell_type": "code",
   "execution_count": 19,
   "id": "61c97474",
   "metadata": {},
   "outputs": [
    {
     "data": {
      "text/plain": [
       "array([[0.54103979],\n",
       "       [0.55219063],\n",
       "       [0.5755456 ],\n",
       "       [0.58575972]])"
      ]
     },
     "execution_count": 19,
     "metadata": {},
     "output_type": "execute_result"
    }
   ],
   "source": [
    "c"
   ]
  },
  {
   "cell_type": "code",
   "execution_count": null,
   "id": "9d1b110d",
   "metadata": {},
   "outputs": [],
   "source": []
  }
 ],
 "metadata": {
  "kernelspec": {
   "display_name": "Python 3",
   "language": "python",
   "name": "python3"
  },
  "language_info": {
   "codemirror_mode": {
    "name": "ipython",
    "version": 3
   },
   "file_extension": ".py",
   "mimetype": "text/x-python",
   "name": "python",
   "nbconvert_exporter": "python",
   "pygments_lexer": "ipython3",
   "version": "3.8.8"
  }
 },
 "nbformat": 4,
 "nbformat_minor": 5
}
