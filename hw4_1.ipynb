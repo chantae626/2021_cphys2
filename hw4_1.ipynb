{
 "cells": [
  {
   "cell_type": "code",
   "execution_count": 4,
   "id": "c0f5f8a2",
   "metadata": {
    "scrolled": true
   },
   "outputs": [
    {
     "data": {
      "image/png": "[encoded data removed]",
      "text/plain": [
       "<Figure size 432x288 with 1 Axes>"
      ]
     },
     "metadata": {
      "needs_background": "light"
     },
     "output_type": "display_data"
    },
    {
     "name": "stdout",
     "output_type": "stream",
     "text": [
      "[[0.03216084]\n",
      " [0.94167587]\n",
      " [0.94562177]\n",
      " [0.08067427]]\n"
     ]
    }
   ],
   "source": [
    "import numpy as np\n",
    "import matplotlib.pyplot as plt\n",
    "\n",
    "def sigmoid(x):\n",
    "    return 1/(1+np.exp(-x))\n",
    "\n",
    "def sigmoid_deriv(x):\n",
    "    return x*(1-x)\n",
    "\n",
    "X=[[0,0,1],[0,1,1],[1,0,1],[1,1,1]]\n",
    "y=[0,1,1,0]\n",
    "X=np.reshape(X,(4,3))\n",
    "y=np.reshape(y,(4,1))\n",
    "eta=1\n",
    "error=np.zeros([1000,1])\n",
    "\n",
    "np.random.seed(1)\n",
    "inputs, hiddens, outputs =3,4,1\n",
    "w = 2*np.random.random((inputs,hiddens))-1\n",
    "omega = 2*np.random.random((hiddens,outputs))-1\n",
    "\n",
    "for i in range (1000):\n",
    "    neth = np.dot(X , w)\n",
    "    h = sigmoid(neth)\n",
    "    h[:,-1] = 1.0\n",
    "    neto = np.dot(h, omega)\n",
    "    o = sigmoid(neto)\n",
    "    \n",
    "    deltao = (o - y) * sigmoid_deriv(o)\n",
    "    \n",
    "    deltah = np.dot(deltao, omega.T) * sigmoid_deriv(h)\n",
    "    \n",
    "    omega += -eta*np.dot(h.T, deltao)\n",
    "    w += -eta*np.dot(X.T, deltah)\n",
    "    \n",
    "    error[i,0] = np.sum((o - y)**2)\n",
    "\n",
    "plt.figure()\n",
    "plt.plot(error)\n",
    "plt.xlabel(\"EPOCHS\")\n",
    "plt.ylabel(\"error\")\n",
    "plt.show()\n",
    "print(o)"
   ]
  },
  {
   "cell_type": "code",
   "execution_count": null,
   "id": "c47f08cc",
   "metadata": {},
   "outputs": [],
   "source": []
  }
 ],
 "metadata": {
  "kernelspec": {
   "display_name": "Python 3",
   "language": "python",
   "name": "python3"
  },
  "language_info": {
   "codemirror_mode": {
    "name": "ipython",
    "version": 3
   },
   "file_extension": ".py",
   "mimetype": "text/x-python",
   "name": "python",
   "nbconvert_exporter": "python",
   "pygments_lexer": "ipython3",
   "version": "3.8.8"
  }
 },
 "nbformat": 4,
 "nbformat_minor": 5
}
