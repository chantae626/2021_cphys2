{
 "cells": [
  {
   "cell_type": "markdown",
   "id": "5189996b",
   "metadata": {},
   "source": [
    "# Titanic (Classification)"
   ]
  },
  {
   "cell_type": "code",
   "execution_count": 1,
   "id": "630c6ef7",
   "metadata": {},
   "outputs": [],
   "source": [
    "import numpy as np\n",
    "import pandas as pd\n",
    "import matplotlib.pyplot as plt"
   ]
  },
  {
   "cell_type": "code",
   "execution_count": 2,
   "id": "2720a944",
   "metadata": {},
   "outputs": [],
   "source": [
    "train_data = pd.read_csv('train.csv') #pandas에서 저장하는 파일 불러오기 함수\n",
    "test_data = pd.read_csv('test.csv')"
   ]
  },
  {
   "cell_type": "code",
   "execution_count": 3,
   "id": "5e8e9e5f",
   "metadata": {},
   "outputs": [
    {
     "data": {
      "text/html": [
       "<div>\n",
       "<style scoped>\n",
       "    .dataframe tbody tr th:only-of-type {\n",
       "        vertical-align: middle;\n",
       "    }\n",
       "\n",
       "    .dataframe tbody tr th {\n",
       "        vertical-align: top;\n",
       "    }\n",
       "\n",
       "    .dataframe thead th {\n",
       "        text-align: right;\n",
       "    }\n",
       "</style>\n",
       "<table border=\"1\" class=\"dataframe\">\n",
       "  <thead>\n",
       "    <tr style=\"text-align: right;\">\n",
       "      <th></th>\n",
       "      <th>PassengerId</th>\n",
       "      <th>Survived</th>\n",
       "      <th>Pclass</th>\n",
       "      <th>Name</th>\n",
       "      <th>Sex</th>\n",
       "      <th>Age</th>\n",
       "      <th>SibSp</th>\n",
       "      <th>Parch</th>\n",
       "      <th>Ticket</th>\n",
       "      <th>Fare</th>\n",
       "      <th>Cabin</th>\n",
       "      <th>Embarked</th>\n",
       "    </tr>\n",
       "  </thead>\n",
       "  <tbody>\n",
       "    <tr>\n",
       "      <th>0</th>\n",
       "      <td>1</td>\n",
       "      <td>0</td>\n",
       "      <td>3</td>\n",
       "      <td>Braund, Mr. Owen Harris</td>\n",
       "      <td>male</td>\n",
       "      <td>22.0</td>\n",
       "      <td>1</td>\n",
       "      <td>0</td>\n",
       "      <td>A/5 21171</td>\n",
       "      <td>7.2500</td>\n",
       "      <td>NaN</td>\n",
       "      <td>S</td>\n",
       "    </tr>\n",
       "    <tr>\n",
       "      <th>1</th>\n",
       "      <td>2</td>\n",
       "      <td>1</td>\n",
       "      <td>1</td>\n",
       "      <td>Cumings, Mrs. John Bradley (Florence Briggs Th...</td>\n",
       "      <td>female</td>\n",
       "      <td>38.0</td>\n",
       "      <td>1</td>\n",
       "      <td>0</td>\n",
       "      <td>PC 17599</td>\n",
       "      <td>71.2833</td>\n",
       "      <td>C85</td>\n",
       "      <td>C</td>\n",
       "    </tr>\n",
       "    <tr>\n",
       "      <th>2</th>\n",
       "      <td>3</td>\n",
       "      <td>1</td>\n",
       "      <td>3</td>\n",
       "      <td>Heikkinen, Miss. Laina</td>\n",
       "      <td>female</td>\n",
       "      <td>26.0</td>\n",
       "      <td>0</td>\n",
       "      <td>0</td>\n",
       "      <td>STON/O2. 3101282</td>\n",
       "      <td>7.9250</td>\n",
       "      <td>NaN</td>\n",
       "      <td>S</td>\n",
       "    </tr>\n",
       "    <tr>\n",
       "      <th>3</th>\n",
       "      <td>4</td>\n",
       "      <td>1</td>\n",
       "      <td>1</td>\n",
       "      <td>Futrelle, Mrs. Jacques Heath (Lily May Peel)</td>\n",
       "      <td>female</td>\n",
       "      <td>35.0</td>\n",
       "      <td>1</td>\n",
       "      <td>0</td>\n",
       "      <td>113803</td>\n",
       "      <td>53.1000</td>\n",
       "      <td>C123</td>\n",
       "      <td>S</td>\n",
       "    </tr>\n",
       "    <tr>\n",
       "      <th>4</th>\n",
       "      <td>5</td>\n",
       "      <td>0</td>\n",
       "      <td>3</td>\n",
       "      <td>Allen, Mr. William Henry</td>\n",
       "      <td>male</td>\n",
       "      <td>35.0</td>\n",
       "      <td>0</td>\n",
       "      <td>0</td>\n",
       "      <td>373450</td>\n",
       "      <td>8.0500</td>\n",
       "      <td>NaN</td>\n",
       "      <td>S</td>\n",
       "    </tr>\n",
       "  </tbody>\n",
       "</table>\n",
       "</div>"
      ],
      "text/plain": [
       "   PassengerId  Survived  Pclass  \\\n",
       "0            1         0       3   \n",
       "1            2         1       1   \n",
       "2            3         1       3   \n",
       "3            4         1       1   \n",
       "4            5         0       3   \n",
       "\n",
       "                                                Name     Sex   Age  SibSp  \\\n",
       "0                            Braund, Mr. Owen Harris    male  22.0      1   \n",
       "1  Cumings, Mrs. John Bradley (Florence Briggs Th...  female  38.0      1   \n",
       "2                             Heikkinen, Miss. Laina  female  26.0      0   \n",
       "3       Futrelle, Mrs. Jacques Heath (Lily May Peel)  female  35.0      1   \n",
       "4                           Allen, Mr. William Henry    male  35.0      0   \n",
       "\n",
       "   Parch            Ticket     Fare Cabin Embarked  \n",
       "0      0         A/5 21171   7.2500   NaN        S  \n",
       "1      0          PC 17599  71.2833   C85        C  \n",
       "2      0  STON/O2. 3101282   7.9250   NaN        S  \n",
       "3      0            113803  53.1000  C123        S  \n",
       "4      0            373450   8.0500   NaN        S  "
      ]
     },
     "execution_count": 3,
     "metadata": {},
     "output_type": "execute_result"
    }
   ],
   "source": [
    "train_data.head() "
   ]
  },
  {
   "cell_type": "markdown",
   "id": "ec9f042a",
   "metadata": {},
   "source": [
    "passengerId 의미 X, survived : target, Pclass : 퍼스트 클래스, 비즈니스 석 같은 것, Name : 이름, 사실 큰 의미 X, Sex : 성별, Age :나이, SibSp :  Sibling, Spouse, Parch : parent, child, Ticket : 티켓 번호, Fare : 요금, Cabin : 객실 번호, Embarked : 승선한 항구명"
   ]
  },
  {
   "cell_type": "markdown",
   "id": "f1016643",
   "metadata": {},
   "source": [
    "## Data Featuring"
   ]
  },
  {
   "cell_type": "code",
   "execution_count": 4,
   "id": "57ae71fe",
   "metadata": {},
   "outputs": [
    {
     "data": {
      "text/plain": [
       "PassengerId      0\n",
       "Pclass           0\n",
       "Name             0\n",
       "Sex              0\n",
       "Age             86\n",
       "SibSp            0\n",
       "Parch            0\n",
       "Ticket           0\n",
       "Fare             1\n",
       "Cabin          327\n",
       "Embarked         0\n",
       "dtype: int64"
      ]
     },
     "execution_count": 4,
     "metadata": {},
     "output_type": "execute_result"
    }
   ],
   "source": [
    "test_data.isnull().sum() # null값 개수 확인 test data"
   ]
  },
  {
   "cell_type": "code",
   "execution_count": 5,
   "id": "3e162e7c",
   "metadata": {},
   "outputs": [
    {
     "data": {
      "text/plain": [
       "PassengerId      0\n",
       "Survived         0\n",
       "Pclass           0\n",
       "Name             0\n",
       "Sex              0\n",
       "Age            177\n",
       "SibSp            0\n",
       "Parch            0\n",
       "Ticket           0\n",
       "Fare             0\n",
       "Cabin          687\n",
       "Embarked         2\n",
       "dtype: int64"
      ]
     },
     "execution_count": 5,
     "metadata": {},
     "output_type": "execute_result"
    }
   ],
   "source": [
    "train_data.isnull().sum() # null값 개수 확인 train data"
   ]
  },
  {
   "cell_type": "code",
   "execution_count": 6,
   "id": "ae0aa9f3",
   "metadata": {},
   "outputs": [],
   "source": [
    "data = [train_data, test_data]"
   ]
  },
  {
   "cell_type": "markdown",
   "id": "9524148e",
   "metadata": {},
   "source": [
    "성별 맵핑 문자열 바꿔주기"
   ]
  },
  {
   "cell_type": "code",
   "execution_count": 7,
   "id": "71b2045a",
   "metadata": {},
   "outputs": [],
   "source": [
    "sex_index = {'male': 0, 'female': 1}"
   ]
  },
  {
   "cell_type": "code",
   "execution_count": 8,
   "id": "b8c2b9f4",
   "metadata": {},
   "outputs": [],
   "source": [
    "for dataset in data: # train data 와 test data 모두 바꿔주기\n",
    "    dataset['Sex'] =dataset['Sex'].map(sex_index) "
   ]
  },
  {
   "cell_type": "markdown",
   "id": "b5a80c43",
   "metadata": {},
   "source": [
    "Age null 값 대체"
   ]
  },
  {
   "cell_type": "code",
   "execution_count": 9,
   "id": "d71f2728",
   "metadata": {},
   "outputs": [],
   "source": [
    "# train data set \n",
    "train_data['Age'] = train_data['Age'].fillna(train_data['Age'].mean()) #Age null 값 평균값으로 대체\n",
    "\n",
    "# test data set\n",
    "test_data['Age'] = test_data['Age'].fillna(test_data['Age'].mean())"
   ]
  },
  {
   "cell_type": "code",
   "execution_count": 10,
   "id": "5e331ae4",
   "metadata": {},
   "outputs": [
    {
     "data": {
      "text/plain": [
       "(0.17, 76.0)"
      ]
     },
     "execution_count": 10,
     "metadata": {},
     "output_type": "execute_result"
    }
   ],
   "source": [
    "min(dataset['Age']),max(dataset['Age'])"
   ]
  },
  {
   "cell_type": "code",
   "execution_count": 11,
   "id": "a5d03ef4",
   "metadata": {},
   "outputs": [],
   "source": [
    "for dataset in data:\n",
    "    dataset['Age'] = np.round(dataset['Age']/10) # data binning, 연속적인 데이터에 비해 불연속적인 데이터는 overfitting을 방지"
   ]
  },
  {
   "cell_type": "code",
   "execution_count": 12,
   "id": "b9cd73da",
   "metadata": {},
   "outputs": [
    {
     "data": {
      "text/html": [
       "<div>\n",
       "<style scoped>\n",
       "    .dataframe tbody tr th:only-of-type {\n",
       "        vertical-align: middle;\n",
       "    }\n",
       "\n",
       "    .dataframe tbody tr th {\n",
       "        vertical-align: top;\n",
       "    }\n",
       "\n",
       "    .dataframe thead th {\n",
       "        text-align: right;\n",
       "    }\n",
       "</style>\n",
       "<table border=\"1\" class=\"dataframe\">\n",
       "  <thead>\n",
       "    <tr style=\"text-align: right;\">\n",
       "      <th></th>\n",
       "      <th>PassengerId</th>\n",
       "      <th>Survived</th>\n",
       "      <th>Pclass</th>\n",
       "      <th>Name</th>\n",
       "      <th>Sex</th>\n",
       "      <th>Age</th>\n",
       "      <th>SibSp</th>\n",
       "      <th>Parch</th>\n",
       "      <th>Ticket</th>\n",
       "      <th>Fare</th>\n",
       "      <th>Cabin</th>\n",
       "      <th>Embarked</th>\n",
       "    </tr>\n",
       "  </thead>\n",
       "  <tbody>\n",
       "    <tr>\n",
       "      <th>0</th>\n",
       "      <td>1</td>\n",
       "      <td>0</td>\n",
       "      <td>3</td>\n",
       "      <td>Braund, Mr. Owen Harris</td>\n",
       "      <td>0</td>\n",
       "      <td>2.0</td>\n",
       "      <td>1</td>\n",
       "      <td>0</td>\n",
       "      <td>A/5 21171</td>\n",
       "      <td>7.2500</td>\n",
       "      <td>NaN</td>\n",
       "      <td>S</td>\n",
       "    </tr>\n",
       "    <tr>\n",
       "      <th>1</th>\n",
       "      <td>2</td>\n",
       "      <td>1</td>\n",
       "      <td>1</td>\n",
       "      <td>Cumings, Mrs. John Bradley (Florence Briggs Th...</td>\n",
       "      <td>1</td>\n",
       "      <td>4.0</td>\n",
       "      <td>1</td>\n",
       "      <td>0</td>\n",
       "      <td>PC 17599</td>\n",
       "      <td>71.2833</td>\n",
       "      <td>C85</td>\n",
       "      <td>C</td>\n",
       "    </tr>\n",
       "    <tr>\n",
       "      <th>2</th>\n",
       "      <td>3</td>\n",
       "      <td>1</td>\n",
       "      <td>3</td>\n",
       "      <td>Heikkinen, Miss. Laina</td>\n",
       "      <td>1</td>\n",
       "      <td>3.0</td>\n",
       "      <td>0</td>\n",
       "      <td>0</td>\n",
       "      <td>STON/O2. 3101282</td>\n",
       "      <td>7.9250</td>\n",
       "      <td>NaN</td>\n",
       "      <td>S</td>\n",
       "    </tr>\n",
       "    <tr>\n",
       "      <th>3</th>\n",
       "      <td>4</td>\n",
       "      <td>1</td>\n",
       "      <td>1</td>\n",
       "      <td>Futrelle, Mrs. Jacques Heath (Lily May Peel)</td>\n",
       "      <td>1</td>\n",
       "      <td>4.0</td>\n",
       "      <td>1</td>\n",
       "      <td>0</td>\n",
       "      <td>113803</td>\n",
       "      <td>53.1000</td>\n",
       "      <td>C123</td>\n",
       "      <td>S</td>\n",
       "    </tr>\n",
       "    <tr>\n",
       "      <th>4</th>\n",
       "      <td>5</td>\n",
       "      <td>0</td>\n",
       "      <td>3</td>\n",
       "      <td>Allen, Mr. William Henry</td>\n",
       "      <td>0</td>\n",
       "      <td>4.0</td>\n",
       "      <td>0</td>\n",
       "      <td>0</td>\n",
       "      <td>373450</td>\n",
       "      <td>8.0500</td>\n",
       "      <td>NaN</td>\n",
       "      <td>S</td>\n",
       "    </tr>\n",
       "    <tr>\n",
       "      <th>...</th>\n",
       "      <td>...</td>\n",
       "      <td>...</td>\n",
       "      <td>...</td>\n",
       "      <td>...</td>\n",
       "      <td>...</td>\n",
       "      <td>...</td>\n",
       "      <td>...</td>\n",
       "      <td>...</td>\n",
       "      <td>...</td>\n",
       "      <td>...</td>\n",
       "      <td>...</td>\n",
       "      <td>...</td>\n",
       "    </tr>\n",
       "    <tr>\n",
       "      <th>886</th>\n",
       "      <td>887</td>\n",
       "      <td>0</td>\n",
       "      <td>2</td>\n",
       "      <td>Montvila, Rev. Juozas</td>\n",
       "      <td>0</td>\n",
       "      <td>3.0</td>\n",
       "      <td>0</td>\n",
       "      <td>0</td>\n",
       "      <td>211536</td>\n",
       "      <td>13.0000</td>\n",
       "      <td>NaN</td>\n",
       "      <td>S</td>\n",
       "    </tr>\n",
       "    <tr>\n",
       "      <th>887</th>\n",
       "      <td>888</td>\n",
       "      <td>1</td>\n",
       "      <td>1</td>\n",
       "      <td>Graham, Miss. Margaret Edith</td>\n",
       "      <td>1</td>\n",
       "      <td>2.0</td>\n",
       "      <td>0</td>\n",
       "      <td>0</td>\n",
       "      <td>112053</td>\n",
       "      <td>30.0000</td>\n",
       "      <td>B42</td>\n",
       "      <td>S</td>\n",
       "    </tr>\n",
       "    <tr>\n",
       "      <th>888</th>\n",
       "      <td>889</td>\n",
       "      <td>0</td>\n",
       "      <td>3</td>\n",
       "      <td>Johnston, Miss. Catherine Helen \"Carrie\"</td>\n",
       "      <td>1</td>\n",
       "      <td>3.0</td>\n",
       "      <td>1</td>\n",
       "      <td>2</td>\n",
       "      <td>W./C. 6607</td>\n",
       "      <td>23.4500</td>\n",
       "      <td>NaN</td>\n",
       "      <td>S</td>\n",
       "    </tr>\n",
       "    <tr>\n",
       "      <th>889</th>\n",
       "      <td>890</td>\n",
       "      <td>1</td>\n",
       "      <td>1</td>\n",
       "      <td>Behr, Mr. Karl Howell</td>\n",
       "      <td>0</td>\n",
       "      <td>3.0</td>\n",
       "      <td>0</td>\n",
       "      <td>0</td>\n",
       "      <td>111369</td>\n",
       "      <td>30.0000</td>\n",
       "      <td>C148</td>\n",
       "      <td>C</td>\n",
       "    </tr>\n",
       "    <tr>\n",
       "      <th>890</th>\n",
       "      <td>891</td>\n",
       "      <td>0</td>\n",
       "      <td>3</td>\n",
       "      <td>Dooley, Mr. Patrick</td>\n",
       "      <td>0</td>\n",
       "      <td>3.0</td>\n",
       "      <td>0</td>\n",
       "      <td>0</td>\n",
       "      <td>370376</td>\n",
       "      <td>7.7500</td>\n",
       "      <td>NaN</td>\n",
       "      <td>Q</td>\n",
       "    </tr>\n",
       "  </tbody>\n",
       "</table>\n",
       "<p>891 rows × 12 columns</p>\n",
       "</div>"
      ],
      "text/plain": [
       "     PassengerId  Survived  Pclass  \\\n",
       "0              1         0       3   \n",
       "1              2         1       1   \n",
       "2              3         1       3   \n",
       "3              4         1       1   \n",
       "4              5         0       3   \n",
       "..           ...       ...     ...   \n",
       "886          887         0       2   \n",
       "887          888         1       1   \n",
       "888          889         0       3   \n",
       "889          890         1       1   \n",
       "890          891         0       3   \n",
       "\n",
       "                                                  Name  Sex  Age  SibSp  \\\n",
       "0                              Braund, Mr. Owen Harris    0  2.0      1   \n",
       "1    Cumings, Mrs. John Bradley (Florence Briggs Th...    1  4.0      1   \n",
       "2                               Heikkinen, Miss. Laina    1  3.0      0   \n",
       "3         Futrelle, Mrs. Jacques Heath (Lily May Peel)    1  4.0      1   \n",
       "4                             Allen, Mr. William Henry    0  4.0      0   \n",
       "..                                                 ...  ...  ...    ...   \n",
       "886                              Montvila, Rev. Juozas    0  3.0      0   \n",
       "887                       Graham, Miss. Margaret Edith    1  2.0      0   \n",
       "888           Johnston, Miss. Catherine Helen \"Carrie\"    1  3.0      1   \n",
       "889                              Behr, Mr. Karl Howell    0  3.0      0   \n",
       "890                                Dooley, Mr. Patrick    0  3.0      0   \n",
       "\n",
       "     Parch            Ticket     Fare Cabin Embarked  \n",
       "0        0         A/5 21171   7.2500   NaN        S  \n",
       "1        0          PC 17599  71.2833   C85        C  \n",
       "2        0  STON/O2. 3101282   7.9250   NaN        S  \n",
       "3        0            113803  53.1000  C123        S  \n",
       "4        0            373450   8.0500   NaN        S  \n",
       "..     ...               ...      ...   ...      ...  \n",
       "886      0            211536  13.0000   NaN        S  \n",
       "887      0            112053  30.0000   B42        S  \n",
       "888      2        W./C. 6607  23.4500   NaN        S  \n",
       "889      0            111369  30.0000  C148        C  \n",
       "890      0            370376   7.7500   NaN        Q  \n",
       "\n",
       "[891 rows x 12 columns]"
      ]
     },
     "execution_count": 12,
     "metadata": {},
     "output_type": "execute_result"
    }
   ],
   "source": [
    "train_data"
   ]
  },
  {
   "cell_type": "markdown",
   "id": "da1c7e5e",
   "metadata": {},
   "source": [
    "embarked 정보에서 null 값 대체 및 mapping"
   ]
  },
  {
   "cell_type": "code",
   "execution_count": 13,
   "id": "af31463b",
   "metadata": {},
   "outputs": [],
   "source": [
    "embarked_index = {'S':0,'C':1,'Q':2}\n",
    "\n",
    "for dataset in data:\n",
    "    dataset['Embarked'] = dataset['Embarked'].fillna('S')\n",
    "    dataset['Embarked'] = dataset['Embarked'].map(embarked_index)"
   ]
  },
  {
   "cell_type": "markdown",
   "id": "8a5464cb",
   "metadata": {},
   "source": [
    "Fare 요금 정보 data binning"
   ]
  },
  {
   "cell_type": "code",
   "execution_count": 14,
   "id": "9a67a511",
   "metadata": {},
   "outputs": [
    {
     "data": {
      "text/plain": [
       "(array([732., 106.,  31.,   2.,  11.,   6.,   0.,   0.,   0.,   3.]),\n",
       " array([  0.     ,  51.23292, 102.46584, 153.69876, 204.93168, 256.1646 ,\n",
       "        307.39752, 358.63044, 409.86336, 461.09628, 512.3292 ]),\n",
       " <BarContainer object of 10 artists>)"
      ]
     },
     "execution_count": 14,
     "metadata": {},
     "output_type": "execute_result"
    },
    {
     "data": {
      "image/png": "[encoded data removed]",
      "text/plain": [
       "<Figure size 432x288 with 1 Axes>"
      ]
     },
     "metadata": {
      "needs_background": "light"
     },
     "output_type": "display_data"
    }
   ],
   "source": [
    "plt.hist(train_data['Fare'])"
   ]
  },
  {
   "cell_type": "code",
   "execution_count": 15,
   "id": "2d2a03e3",
   "metadata": {},
   "outputs": [],
   "source": [
    "train_data['Fare'] = train_data['Fare'].fillna(train_data['Fare'].mean()) #null 값 평균값으로 대체\n",
    "test_data['Fare'] = test_data['Fare'].fillna(test_data['Fare'].mean())"
   ]
  },
  {
   "cell_type": "code",
   "execution_count": 16,
   "id": "5d3b9665",
   "metadata": {},
   "outputs": [
    {
     "data": {
      "text/html": [
       "<div>\n",
       "<style scoped>\n",
       "    .dataframe tbody tr th:only-of-type {\n",
       "        vertical-align: middle;\n",
       "    }\n",
       "\n",
       "    .dataframe tbody tr th {\n",
       "        vertical-align: top;\n",
       "    }\n",
       "\n",
       "    .dataframe thead th {\n",
       "        text-align: right;\n",
       "    }\n",
       "</style>\n",
       "<table border=\"1\" class=\"dataframe\">\n",
       "  <thead>\n",
       "    <tr style=\"text-align: right;\">\n",
       "      <th></th>\n",
       "      <th>PassengerId</th>\n",
       "      <th>Survived</th>\n",
       "      <th>Pclass</th>\n",
       "      <th>Name</th>\n",
       "      <th>Sex</th>\n",
       "      <th>Age</th>\n",
       "      <th>SibSp</th>\n",
       "      <th>Parch</th>\n",
       "      <th>Ticket</th>\n",
       "      <th>Fare</th>\n",
       "      <th>Cabin</th>\n",
       "      <th>Embarked</th>\n",
       "      <th>FareBin</th>\n",
       "      <th>Fare_clean</th>\n",
       "    </tr>\n",
       "  </thead>\n",
       "  <tbody>\n",
       "    <tr>\n",
       "      <th>0</th>\n",
       "      <td>1</td>\n",
       "      <td>0</td>\n",
       "      <td>3</td>\n",
       "      <td>Braund, Mr. Owen Harris</td>\n",
       "      <td>0</td>\n",
       "      <td>2.0</td>\n",
       "      <td>1</td>\n",
       "      <td>0</td>\n",
       "      <td>A/5 21171</td>\n",
       "      <td>7.2500</td>\n",
       "      <td>NaN</td>\n",
       "      <td>0</td>\n",
       "      <td>(-0.001, 7.854]</td>\n",
       "      <td>0</td>\n",
       "    </tr>\n",
       "    <tr>\n",
       "      <th>1</th>\n",
       "      <td>2</td>\n",
       "      <td>1</td>\n",
       "      <td>1</td>\n",
       "      <td>Cumings, Mrs. John Bradley (Florence Briggs Th...</td>\n",
       "      <td>1</td>\n",
       "      <td>4.0</td>\n",
       "      <td>1</td>\n",
       "      <td>0</td>\n",
       "      <td>PC 17599</td>\n",
       "      <td>71.2833</td>\n",
       "      <td>C85</td>\n",
       "      <td>1</td>\n",
       "      <td>(39.688, 512.329]</td>\n",
       "      <td>4</td>\n",
       "    </tr>\n",
       "    <tr>\n",
       "      <th>2</th>\n",
       "      <td>3</td>\n",
       "      <td>1</td>\n",
       "      <td>3</td>\n",
       "      <td>Heikkinen, Miss. Laina</td>\n",
       "      <td>1</td>\n",
       "      <td>3.0</td>\n",
       "      <td>0</td>\n",
       "      <td>0</td>\n",
       "      <td>STON/O2. 3101282</td>\n",
       "      <td>7.9250</td>\n",
       "      <td>NaN</td>\n",
       "      <td>0</td>\n",
       "      <td>(7.854, 10.5]</td>\n",
       "      <td>1</td>\n",
       "    </tr>\n",
       "    <tr>\n",
       "      <th>3</th>\n",
       "      <td>4</td>\n",
       "      <td>1</td>\n",
       "      <td>1</td>\n",
       "      <td>Futrelle, Mrs. Jacques Heath (Lily May Peel)</td>\n",
       "      <td>1</td>\n",
       "      <td>4.0</td>\n",
       "      <td>1</td>\n",
       "      <td>0</td>\n",
       "      <td>113803</td>\n",
       "      <td>53.1000</td>\n",
       "      <td>C123</td>\n",
       "      <td>0</td>\n",
       "      <td>(39.688, 512.329]</td>\n",
       "      <td>4</td>\n",
       "    </tr>\n",
       "    <tr>\n",
       "      <th>4</th>\n",
       "      <td>5</td>\n",
       "      <td>0</td>\n",
       "      <td>3</td>\n",
       "      <td>Allen, Mr. William Henry</td>\n",
       "      <td>0</td>\n",
       "      <td>4.0</td>\n",
       "      <td>0</td>\n",
       "      <td>0</td>\n",
       "      <td>373450</td>\n",
       "      <td>8.0500</td>\n",
       "      <td>NaN</td>\n",
       "      <td>0</td>\n",
       "      <td>(7.854, 10.5]</td>\n",
       "      <td>1</td>\n",
       "    </tr>\n",
       "    <tr>\n",
       "      <th>5</th>\n",
       "      <td>6</td>\n",
       "      <td>0</td>\n",
       "      <td>3</td>\n",
       "      <td>Moran, Mr. James</td>\n",
       "      <td>0</td>\n",
       "      <td>3.0</td>\n",
       "      <td>0</td>\n",
       "      <td>0</td>\n",
       "      <td>330877</td>\n",
       "      <td>8.4583</td>\n",
       "      <td>NaN</td>\n",
       "      <td>2</td>\n",
       "      <td>(7.854, 10.5]</td>\n",
       "      <td>1</td>\n",
       "    </tr>\n",
       "    <tr>\n",
       "      <th>6</th>\n",
       "      <td>7</td>\n",
       "      <td>0</td>\n",
       "      <td>1</td>\n",
       "      <td>McCarthy, Mr. Timothy J</td>\n",
       "      <td>0</td>\n",
       "      <td>5.0</td>\n",
       "      <td>0</td>\n",
       "      <td>0</td>\n",
       "      <td>17463</td>\n",
       "      <td>51.8625</td>\n",
       "      <td>E46</td>\n",
       "      <td>0</td>\n",
       "      <td>(39.688, 512.329]</td>\n",
       "      <td>4</td>\n",
       "    </tr>\n",
       "    <tr>\n",
       "      <th>7</th>\n",
       "      <td>8</td>\n",
       "      <td>0</td>\n",
       "      <td>3</td>\n",
       "      <td>Palsson, Master. Gosta Leonard</td>\n",
       "      <td>0</td>\n",
       "      <td>0.0</td>\n",
       "      <td>3</td>\n",
       "      <td>1</td>\n",
       "      <td>349909</td>\n",
       "      <td>21.0750</td>\n",
       "      <td>NaN</td>\n",
       "      <td>0</td>\n",
       "      <td>(10.5, 21.679]</td>\n",
       "      <td>2</td>\n",
       "    </tr>\n",
       "    <tr>\n",
       "      <th>8</th>\n",
       "      <td>9</td>\n",
       "      <td>1</td>\n",
       "      <td>3</td>\n",
       "      <td>Johnson, Mrs. Oscar W (Elisabeth Vilhelmina Berg)</td>\n",
       "      <td>1</td>\n",
       "      <td>3.0</td>\n",
       "      <td>0</td>\n",
       "      <td>2</td>\n",
       "      <td>347742</td>\n",
       "      <td>11.1333</td>\n",
       "      <td>NaN</td>\n",
       "      <td>0</td>\n",
       "      <td>(10.5, 21.679]</td>\n",
       "      <td>2</td>\n",
       "    </tr>\n",
       "    <tr>\n",
       "      <th>9</th>\n",
       "      <td>10</td>\n",
       "      <td>1</td>\n",
       "      <td>2</td>\n",
       "      <td>Nasser, Mrs. Nicholas (Adele Achem)</td>\n",
       "      <td>1</td>\n",
       "      <td>1.0</td>\n",
       "      <td>1</td>\n",
       "      <td>0</td>\n",
       "      <td>237736</td>\n",
       "      <td>30.0708</td>\n",
       "      <td>NaN</td>\n",
       "      <td>1</td>\n",
       "      <td>(21.679, 39.688]</td>\n",
       "      <td>3</td>\n",
       "    </tr>\n",
       "  </tbody>\n",
       "</table>\n",
       "</div>"
      ],
      "text/plain": [
       "   PassengerId  Survived  Pclass  \\\n",
       "0            1         0       3   \n",
       "1            2         1       1   \n",
       "2            3         1       3   \n",
       "3            4         1       1   \n",
       "4            5         0       3   \n",
       "5            6         0       3   \n",
       "6            7         0       1   \n",
       "7            8         0       3   \n",
       "8            9         1       3   \n",
       "9           10         1       2   \n",
       "\n",
       "                                                Name  Sex  Age  SibSp  Parch  \\\n",
       "0                            Braund, Mr. Owen Harris    0  2.0      1      0   \n",
       "1  Cumings, Mrs. John Bradley (Florence Briggs Th...    1  4.0      1      0   \n",
       "2                             Heikkinen, Miss. Laina    1  3.0      0      0   \n",
       "3       Futrelle, Mrs. Jacques Heath (Lily May Peel)    1  4.0      1      0   \n",
       "4                           Allen, Mr. William Henry    0  4.0      0      0   \n",
       "5                                   Moran, Mr. James    0  3.0      0      0   \n",
       "6                            McCarthy, Mr. Timothy J    0  5.0      0      0   \n",
       "7                     Palsson, Master. Gosta Leonard    0  0.0      3      1   \n",
       "8  Johnson, Mrs. Oscar W (Elisabeth Vilhelmina Berg)    1  3.0      0      2   \n",
       "9                Nasser, Mrs. Nicholas (Adele Achem)    1  1.0      1      0   \n",
       "\n",
       "             Ticket     Fare Cabin  Embarked            FareBin  Fare_clean  \n",
       "0         A/5 21171   7.2500   NaN         0    (-0.001, 7.854]           0  \n",
       "1          PC 17599  71.2833   C85         1  (39.688, 512.329]           4  \n",
       "2  STON/O2. 3101282   7.9250   NaN         0      (7.854, 10.5]           1  \n",
       "3            113803  53.1000  C123         0  (39.688, 512.329]           4  \n",
       "4            373450   8.0500   NaN         0      (7.854, 10.5]           1  \n",
       "5            330877   8.4583   NaN         2      (7.854, 10.5]           1  \n",
       "6             17463  51.8625   E46         0  (39.688, 512.329]           4  \n",
       "7            349909  21.0750   NaN         0     (10.5, 21.679]           2  \n",
       "8            347742  11.1333   NaN         0     (10.5, 21.679]           2  \n",
       "9            237736  30.0708   NaN         1   (21.679, 39.688]           3  "
      ]
     },
     "execution_count": 16,
     "metadata": {},
     "output_type": "execute_result"
    }
   ],
   "source": [
    "train_data['FareBin'] = pd.qcut(train_data['Fare'], 5) # 요금 정보를 다섯구간으로 나누어 cut\n",
    "test_data['FareBin'] = pd.qcut(test_data['Fare'], 5)\n",
    "for dataset in data:\n",
    "    dataset['Fare_clean'] = dataset['FareBin'].astype('category').cat.codes # 구간에 해당하는 0~4를 mapping\n",
    "train_data.head(10)"
   ]
  },
  {
   "cell_type": "markdown",
   "id": "907f2327",
   "metadata": {},
   "source": [
    "동승한 사람이 부모님인지, 배우자인지에 따라 생존여부가 달라지지 않을 것. 하지만 동승자 여부는 생존확률에 영향을 끼칠 수 있다. 따라서 동승자 수로 정보를 묶어줌."
   ]
  },
  {
   "cell_type": "code",
   "execution_count": 17,
   "id": "a06066d4",
   "metadata": {},
   "outputs": [],
   "source": [
    "train_data['FamilySize'] = (train_data['SibSp'] + train_data['Parch']) \n",
    "test_data['FamilySize'] = (test_data['SibSp'] + test_data['Parch'])"
   ]
  },
  {
   "cell_type": "code",
   "execution_count": 18,
   "id": "31c0db19",
   "metadata": {},
   "outputs": [
    {
     "data": {
      "text/plain": [
       "(10, 10)"
      ]
     },
     "execution_count": 18,
     "metadata": {},
     "output_type": "execute_result"
    }
   ],
   "source": [
    "max(train_data['FamilySize']),max(test_data['FamilySize'])"
   ]
  },
  {
   "cell_type": "code",
   "execution_count": 19,
   "id": "b836b889",
   "metadata": {},
   "outputs": [],
   "source": [
    "features_drop = ['Ticket', 'SibSp', 'Parch','Name','Cabin','FareBin','Fare'] #필요없는 정보나 처리해준 정보 drop\n",
    "\n",
    "train_data = train_data.drop(features_drop, axis=1)\n",
    "test_data = test_data.drop(features_drop, axis=1)"
   ]
  },
  {
   "cell_type": "code",
   "execution_count": 20,
   "id": "216b2616",
   "metadata": {},
   "outputs": [
    {
     "data": {
      "text/html": [
       "<div>\n",
       "<style scoped>\n",
       "    .dataframe tbody tr th:only-of-type {\n",
       "        vertical-align: middle;\n",
       "    }\n",
       "\n",
       "    .dataframe tbody tr th {\n",
       "        vertical-align: top;\n",
       "    }\n",
       "\n",
       "    .dataframe thead th {\n",
       "        text-align: right;\n",
       "    }\n",
       "</style>\n",
       "<table border=\"1\" class=\"dataframe\">\n",
       "  <thead>\n",
       "    <tr style=\"text-align: right;\">\n",
       "      <th></th>\n",
       "      <th>PassengerId</th>\n",
       "      <th>Survived</th>\n",
       "      <th>Pclass</th>\n",
       "      <th>Sex</th>\n",
       "      <th>Age</th>\n",
       "      <th>Embarked</th>\n",
       "      <th>Fare_clean</th>\n",
       "      <th>FamilySize</th>\n",
       "    </tr>\n",
       "  </thead>\n",
       "  <tbody>\n",
       "    <tr>\n",
       "      <th>0</th>\n",
       "      <td>1</td>\n",
       "      <td>0</td>\n",
       "      <td>3</td>\n",
       "      <td>0</td>\n",
       "      <td>2.0</td>\n",
       "      <td>0</td>\n",
       "      <td>0</td>\n",
       "      <td>1</td>\n",
       "    </tr>\n",
       "    <tr>\n",
       "      <th>1</th>\n",
       "      <td>2</td>\n",
       "      <td>1</td>\n",
       "      <td>1</td>\n",
       "      <td>1</td>\n",
       "      <td>4.0</td>\n",
       "      <td>1</td>\n",
       "      <td>4</td>\n",
       "      <td>1</td>\n",
       "    </tr>\n",
       "    <tr>\n",
       "      <th>2</th>\n",
       "      <td>3</td>\n",
       "      <td>1</td>\n",
       "      <td>3</td>\n",
       "      <td>1</td>\n",
       "      <td>3.0</td>\n",
       "      <td>0</td>\n",
       "      <td>1</td>\n",
       "      <td>0</td>\n",
       "    </tr>\n",
       "    <tr>\n",
       "      <th>3</th>\n",
       "      <td>4</td>\n",
       "      <td>1</td>\n",
       "      <td>1</td>\n",
       "      <td>1</td>\n",
       "      <td>4.0</td>\n",
       "      <td>0</td>\n",
       "      <td>4</td>\n",
       "      <td>1</td>\n",
       "    </tr>\n",
       "    <tr>\n",
       "      <th>4</th>\n",
       "      <td>5</td>\n",
       "      <td>0</td>\n",
       "      <td>3</td>\n",
       "      <td>0</td>\n",
       "      <td>4.0</td>\n",
       "      <td>0</td>\n",
       "      <td>1</td>\n",
       "      <td>0</td>\n",
       "    </tr>\n",
       "  </tbody>\n",
       "</table>\n",
       "</div>"
      ],
      "text/plain": [
       "   PassengerId  Survived  Pclass  Sex  Age  Embarked  Fare_clean  FamilySize\n",
       "0            1         0       3    0  2.0         0           0           1\n",
       "1            2         1       1    1  4.0         1           4           1\n",
       "2            3         1       3    1  3.0         0           1           0\n",
       "3            4         1       1    1  4.0         0           4           1\n",
       "4            5         0       3    0  4.0         0           1           0"
      ]
     },
     "execution_count": 20,
     "metadata": {},
     "output_type": "execute_result"
    }
   ],
   "source": [
    "train_data.head()"
   ]
  },
  {
   "cell_type": "code",
   "execution_count": 21,
   "id": "af2bbc8a",
   "metadata": {},
   "outputs": [],
   "source": [
    "from sklearn.ensemble import RandomForestClassifier #데이터를 중복을 허용하여 뽑은 뒤 small descion tree 진행\n",
    "from sklearn.ensemble import VotingClassifier # model 중 다수결로 투표를 하여 예측한 결과를 종합.\n",
    "from sklearn.linear_model import LogisticRegression \n",
    "from sklearn.linear_model import Perceptron\n",
    "from sklearn.svm import SVC "
   ]
  },
  {
   "cell_type": "code",
   "execution_count": 22,
   "id": "a7abe9bd",
   "metadata": {},
   "outputs": [],
   "source": [
    "RFC = RandomForestClassifier(n_estimators=100, max_depth=3, random_state = 0 )\n",
    "LR = LogisticRegression(solver='lbfgs', random_state= 40)\n",
    "SVM = SVC(gamma='scale', random_state= 40)\n",
    "Perc = Perceptron(eta0=0.01, random_state=0)\n",
    "\n",
    "model = VotingClassifier(\n",
    "    estimators=[('lr', LR), ('rf',RFC), ('svc', SVM),('pnn',Perc)],\n",
    "    voting = 'hard')"
   ]
  },
  {
   "cell_type": "code",
   "execution_count": 23,
   "id": "92659074",
   "metadata": {},
   "outputs": [],
   "source": [
    "train = train_data.drop(['Survived','PassengerId'],axis = 1)\n",
    "target = train_data['Survived']\n",
    "test = test_data.drop('PassengerId',axis = 1)"
   ]
  },
  {
   "cell_type": "code",
   "execution_count": 24,
   "id": "0da37457",
   "metadata": {},
   "outputs": [
    {
     "data": {
      "text/plain": [
       "VotingClassifier(estimators=[('lr', LogisticRegression(random_state=40)),\n",
       "                             ('rf',\n",
       "                              RandomForestClassifier(max_depth=3,\n",
       "                                                     random_state=0)),\n",
       "                             ('svc', SVC(random_state=40)),\n",
       "                             ('pnn', Perceptron(eta0=0.01))])"
      ]
     },
     "execution_count": 24,
     "metadata": {},
     "output_type": "execute_result"
    }
   ],
   "source": [
    "model.fit(train, target)"
   ]
  },
  {
   "cell_type": "code",
   "execution_count": 25,
   "id": "53edb5bd",
   "metadata": {},
   "outputs": [
    {
     "name": "stdout",
     "output_type": "stream",
     "text": [
      "Accuracy :  82.49 %\n"
     ]
    }
   ],
   "source": [
    "prediction = model.predict(test)\n",
    "accuracy = round(model.score(train, target) * 100, 2)\n",
    "print(\"Accuracy : \", accuracy, \"%\")"
   ]
  },
  {
   "cell_type": "code",
   "execution_count": 26,
   "id": "65f40ba6",
   "metadata": {},
   "outputs": [],
   "source": [
    "submission = pd.DataFrame(\n",
    "    {\n",
    "        \"PassengerId\":test_data[\"PassengerId\"], # 앞에서 PassendgerId 삭제했으므로 다시 불러 옴\n",
    "        \"Survived\":prediction\n",
    "    }\n",
    ")\n",
    "submission.to_csv('submission.csv', index=False)"
   ]
  },
  {
   "cell_type": "markdown",
   "id": "5a102074",
   "metadata": {},
   "source": [
    "# Image Classification with CNN"
   ]
  },
  {
   "cell_type": "code",
   "execution_count": 27,
   "id": "8238dc1b",
   "metadata": {},
   "outputs": [],
   "source": [
    "import torch\n",
    "import torchvision\n",
    "import torchvision.transforms as transforms\n",
    "import torch.nn.functional as F\n",
    "from torch import nn\n",
    "import numpy as np"
   ]
  },
  {
   "cell_type": "code",
   "execution_count": 28,
   "id": "83c1969d",
   "metadata": {},
   "outputs": [
    {
     "name": "stderr",
     "output_type": "stream",
     "text": [
      "C:\\Users\\Administrator\\anaconda3\\lib\\site-packages\\torch\\cuda\\__init__.py:80: UserWarning: CUDA initialization: CUDA driver initialization failed, you might not have a CUDA gpu. (Triggered internally at  ..\\c10\\cuda\\CUDAFunctions.cpp:112.)\n",
      "  return torch._C._cuda_getDeviceCount() > 0\n"
     ]
    },
    {
     "data": {
      "text/plain": [
       "'cpu'"
      ]
     },
     "execution_count": 28,
     "metadata": {},
     "output_type": "execute_result"
    }
   ],
   "source": [
    "device = 'cuda' if torch.cuda.is_available() else 'cpu'\n",
    "\n",
    "# 랜덤 시드 고정\n",
    "torch.manual_seed(777)\n",
    "\n",
    "# GPU 사용 가능일 경우 랜덤 시드 고정\n",
    "if device == 'cuda':\n",
    "    torch.cuda.manual_seed_all(777)\n",
    "\n",
    "device"
   ]
  },
  {
   "cell_type": "code",
   "execution_count": 29,
   "id": "3a867b85",
   "metadata": {
    "scrolled": true
   },
   "outputs": [
    {
     "name": "stdout",
     "output_type": "stream",
     "text": [
      "Files already downloaded and verified\n",
      "Files already downloaded and verified\n"
     ]
    }
   ],
   "source": [
    "transform = transforms.Compose(\n",
    "    [transforms.ToTensor(),\n",
    "     transforms.Normalize((0.5, 0.5, 0.5), (0.5, 0.5, 0.5))]) # 데이터를 0~1사이의 값으로 정규화 시켜줌. 축의 중요도를 동일하게 함.\n",
    "\n",
    "batch_size = 100\n",
    "\n",
    "trainset = torchvision.datasets.CIFAR10(root='./data', train=True,\n",
    "                                        download=True, transform=transform)\n",
    "\n",
    "train_loader = torch.utils.data.DataLoader(trainset, batch_size=batch_size,\n",
    "                                          shuffle=True, num_workers=2) #num_workers cpu에 코어에 작업 할당.\n",
    "\n",
    "testset = torchvision.datasets.CIFAR10(root='./data', train=False,\n",
    "                                       download=True, transform=transform)\n",
    "\n",
    "test_loader = torch.utils.data.DataLoader(testset, batch_size=batch_size,\n",
    "                                         shuffle=False, num_workers=2)\n",
    "\n"
   ]
  },
  {
   "cell_type": "code",
   "execution_count": 30,
   "id": "a1556c53",
   "metadata": {},
   "outputs": [],
   "source": [
    "class Net(nn.Module):\n",
    "    def __init__(self):\n",
    "        super().__init__()\n",
    "        self.conv1 = nn.Conv2d(3, 6, 3, padding = 'same') #padding을 하여 convolution layer을 지난 후와 전이 scale이 같도록\n",
    "        self.pool = nn.MaxPool2d(2, 2)\n",
    "        self.conv2 = nn.Conv2d(6, 16, 3, padding = 'same')\n",
    "        self.conv3 = nn.Conv2d(16, 32, 3, padding = 'same')\n",
    "        self.conv4 = nn.Conv2d(32, 64, 3, padding = 'same')\n",
    "        self.conv5 = nn.Conv2d(64, 128, 3, padding = 'same')\n",
    "        self.fc1 = nn.Linear(128 * 4 * 4, 120)\n",
    "        self.fc2 = nn.Linear(120, 64)\n",
    "        self.fc3 = nn.Linear(64, 10)\n",
    "        self.drop1 = nn.Dropout(0.25) \n",
    "        self.drop2 = nn.Dropout(0.4)\n",
    "\n",
    "    def forward(self, x):\n",
    "        x = F.relu(self.conv1(x))            # (32 32 6)\n",
    "        x = self.pool(F.relu(self.conv2(x))) # (16 16 16)\n",
    "        x = self.drop1(x)                    # 몇개의 kernal을 꺼줌 0.25의 확률로\n",
    "        x = F.relu(self.conv3(x))            # (16 16 32)\n",
    "        x = self.pool(F.relu(self.conv4(x))) # (8 8 64)\n",
    "        x = self.drop1(x)                    \n",
    "        x = self.pool(F.relu(self.conv5(x))) # (4 4 128)\n",
    "        x = self.drop1(x)\n",
    "        x = torch.flatten(x, 1)              # 배치를 제외한 모든 차원을 평탄화(flatten)\n",
    "        x = self.drop2(x)\n",
    "        x = F.relu(self.fc1(x))\n",
    "        x = F.relu(self.fc2(x))\n",
    "        x = self.fc3(x)                      # cross entropy loss에 soft max 포함\n",
    "        return x\n",
    "\n",
    "\n",
    "net = Net()"
   ]
  },
  {
   "cell_type": "code",
   "execution_count": 31,
   "id": "e38f6ad5",
   "metadata": {},
   "outputs": [],
   "source": [
    "import torch.optim as optim\n",
    "model   = Net().to(device) # model을 gpu(가 있으면)에 할당\n",
    "criterion = nn.CrossEntropyLoss().to(device) \n",
    "optimizer = optim.Adam(model.parameters(), lr=0.001)"
   ]
  },
  {
   "cell_type": "code",
   "execution_count": 32,
   "id": "9f308899",
   "metadata": {},
   "outputs": [],
   "source": [
    "def train(model, train_loader, optimizer, epoch):\n",
    "    model.train()\n",
    "    for batch_idx, (data, target) in enumerate(train_loader): # train_loader 에 배치마다 번호를 매겨 for loo를 돌림\n",
    "        data, target = data.to(device), target.to(device)      \n",
    "        optimizer.zero_grad()                                  # 미분값 초기화\n",
    "        output = model(data)                                   # model에 fit\n",
    "        loss = F.cross_entropy(output, target)                 # loss를 계산\n",
    "        loss.backward()                                        # 역전파\n",
    "        optimizer.step()                                       # parameter 업데이트\n",
    "\n",
    "        if batch_idx % 240 == 0:                              # 0,24000, 48000 번째 배치마다 loss를 출력\n",
    "            print('Train Epoch: {} [{}/{} ({:.0f}%)]\\tLoss: {:.6f}'.format(\n",
    "                epoch, batch_idx * len(data), len(train_loader.dataset),\n",
    "                100. * batch_idx / len(train_loader), loss.item()))"
   ]
  },
  {
   "cell_type": "code",
   "execution_count": 33,
   "id": "a96de2b6",
   "metadata": {},
   "outputs": [],
   "source": [
    "def evaluate(model, test_loader):\n",
    "    model.eval()\n",
    "    test_loss = 0\n",
    "    correct = 0\n",
    "    with torch.no_grad():                                     #미분값 계산X\n",
    "        for data, target in test_loader:                      \n",
    "            data, target = data.to(device), target.to(device)\n",
    "            output = model(data)\n",
    "\n",
    "            # 배치 오차를 합산\n",
    "            test_loss += F.cross_entropy(output, target,\n",
    "                                         reduction='sum').item()\n",
    "\n",
    "            # 가장 높은 값을 가진 인덱스가 바로 예측값\n",
    "            pred = output.max(1, keepdim=True)[1]\n",
    "            correct += pred.eq(target.view_as(pred)).sum().item()\n",
    "\n",
    "    test_loss /= len(test_loader.dataset)\n",
    "    test_accuracy = 100. * correct / len(test_loader.dataset)\n",
    "    return test_loss, test_accuracy"
   ]
  },
  {
   "cell_type": "code",
   "execution_count": 35,
   "id": "163c2d81",
   "metadata": {},
   "outputs": [
    {
     "name": "stdout",
     "output_type": "stream",
     "text": [
      "Train Epoch: 1 [0/50000 (0%)]\tLoss: 2.322813\n",
      "Train Epoch: 1 [24000/50000 (48%)]\tLoss: 1.644716\n",
      "Train Epoch: 1 [48000/50000 (96%)]\tLoss: 1.564294\n",
      "[1] Test Loss: 1.4763, Accuracy: 45.69%\n",
      "Train Epoch: 2 [0/50000 (0%)]\tLoss: 1.534243\n",
      "Train Epoch: 2 [24000/50000 (48%)]\tLoss: 1.248793\n",
      "Train Epoch: 2 [48000/50000 (96%)]\tLoss: 1.478456\n",
      "[2] Test Loss: 1.2668, Accuracy: 53.97%\n",
      "Train Epoch: 3 [0/50000 (0%)]\tLoss: 1.389102\n",
      "Train Epoch: 3 [24000/50000 (48%)]\tLoss: 1.223760\n",
      "Train Epoch: 3 [48000/50000 (96%)]\tLoss: 1.345448\n",
      "[3] Test Loss: 1.1391, Accuracy: 59.83%\n",
      "Train Epoch: 4 [0/50000 (0%)]\tLoss: 1.258472\n",
      "Train Epoch: 4 [24000/50000 (48%)]\tLoss: 0.993654\n",
      "Train Epoch: 4 [48000/50000 (96%)]\tLoss: 1.169895\n",
      "[4] Test Loss: 1.0741, Accuracy: 61.40%\n",
      "Train Epoch: 5 [0/50000 (0%)]\tLoss: 1.065121\n",
      "Train Epoch: 5 [24000/50000 (48%)]\tLoss: 1.053432\n",
      "Train Epoch: 5 [48000/50000 (96%)]\tLoss: 1.139730\n",
      "[5] Test Loss: 0.9793, Accuracy: 65.71%\n",
      "Train Epoch: 6 [0/50000 (0%)]\tLoss: 1.104008\n",
      "Train Epoch: 6 [24000/50000 (48%)]\tLoss: 0.958131\n",
      "Train Epoch: 6 [48000/50000 (96%)]\tLoss: 1.075960\n",
      "[6] Test Loss: 0.9059, Accuracy: 67.78%\n",
      "Train Epoch: 7 [0/50000 (0%)]\tLoss: 1.019081\n",
      "Train Epoch: 7 [24000/50000 (48%)]\tLoss: 0.984478\n",
      "Train Epoch: 7 [48000/50000 (96%)]\tLoss: 1.077808\n",
      "[7] Test Loss: 0.8740, Accuracy: 69.78%\n",
      "Train Epoch: 8 [0/50000 (0%)]\tLoss: 0.733254\n",
      "Train Epoch: 8 [24000/50000 (48%)]\tLoss: 0.875190\n",
      "Train Epoch: 8 [48000/50000 (96%)]\tLoss: 0.840248\n",
      "[8] Test Loss: 0.8488, Accuracy: 70.66%\n",
      "Train Epoch: 9 [0/50000 (0%)]\tLoss: 0.821495\n",
      "Train Epoch: 9 [24000/50000 (48%)]\tLoss: 0.745448\n",
      "Train Epoch: 9 [48000/50000 (96%)]\tLoss: 0.971414\n",
      "[9] Test Loss: 0.8787, Accuracy: 70.03%\n",
      "Train Epoch: 10 [0/50000 (0%)]\tLoss: 0.794672\n",
      "Train Epoch: 10 [24000/50000 (48%)]\tLoss: 0.947268\n",
      "Train Epoch: 10 [48000/50000 (96%)]\tLoss: 0.831151\n",
      "[10] Test Loss: 0.7778, Accuracy: 73.04%\n",
      "Train Epoch: 11 [0/50000 (0%)]\tLoss: 0.755950\n",
      "Train Epoch: 11 [24000/50000 (48%)]\tLoss: 0.942877\n",
      "Train Epoch: 11 [48000/50000 (96%)]\tLoss: 0.726376\n",
      "[11] Test Loss: 0.7624, Accuracy: 73.65%\n",
      "Train Epoch: 12 [0/50000 (0%)]\tLoss: 0.908028\n",
      "Train Epoch: 12 [24000/50000 (48%)]\tLoss: 0.587971\n",
      "Train Epoch: 12 [48000/50000 (96%)]\tLoss: 0.793782\n",
      "[12] Test Loss: 0.7753, Accuracy: 72.96%\n",
      "Train Epoch: 13 [0/50000 (0%)]\tLoss: 0.980496\n",
      "Train Epoch: 13 [24000/50000 (48%)]\tLoss: 0.647494\n",
      "Train Epoch: 13 [48000/50000 (96%)]\tLoss: 0.835936\n",
      "[13] Test Loss: 0.7229, Accuracy: 75.28%\n",
      "Train Epoch: 14 [0/50000 (0%)]\tLoss: 0.646205\n",
      "Train Epoch: 14 [24000/50000 (48%)]\tLoss: 0.715634\n",
      "Train Epoch: 14 [48000/50000 (96%)]\tLoss: 0.803654\n",
      "[14] Test Loss: 0.7161, Accuracy: 75.20%\n",
      "Train Epoch: 15 [0/50000 (0%)]\tLoss: 0.759003\n",
      "Train Epoch: 15 [24000/50000 (48%)]\tLoss: 0.832662\n",
      "Train Epoch: 15 [48000/50000 (96%)]\tLoss: 0.709774\n",
      "[15] Test Loss: 0.7027, Accuracy: 76.00%\n",
      "Train Epoch: 16 [0/50000 (0%)]\tLoss: 0.728244\n",
      "Train Epoch: 16 [24000/50000 (48%)]\tLoss: 0.693095\n",
      "Train Epoch: 16 [48000/50000 (96%)]\tLoss: 0.767396\n",
      "[16] Test Loss: 0.7059, Accuracy: 75.66%\n",
      "Train Epoch: 17 [0/50000 (0%)]\tLoss: 0.605428\n",
      "Train Epoch: 17 [24000/50000 (48%)]\tLoss: 0.762246\n",
      "Train Epoch: 17 [48000/50000 (96%)]\tLoss: 0.783230\n",
      "[17] Test Loss: 0.7064, Accuracy: 75.50%\n",
      "Train Epoch: 18 [0/50000 (0%)]\tLoss: 0.748018\n",
      "Train Epoch: 18 [24000/50000 (48%)]\tLoss: 0.667550\n",
      "Train Epoch: 18 [48000/50000 (96%)]\tLoss: 1.040327\n",
      "[18] Test Loss: 0.6733, Accuracy: 76.97%\n"
     ]
    }
   ],
   "source": [
    "EPOCHS = 18\n",
    "for epoch in range(1, EPOCHS + 1):\n",
    "    train(model, train_loader, optimizer, epoch)\n",
    "    test_loss, test_accuracy = evaluate(model, test_loader)\n",
    "    \n",
    "    print('[{}] Test Loss: {:.4f}, Accuracy: {:.2f}%'.format(\n",
    "          epoch, test_loss, test_accuracy))"
   ]
  },
  {
   "cell_type": "markdown",
   "id": "82ea8882",
   "metadata": {},
   "source": [
    "CNN엔 다양한 model들이 있습니다. Deep,CNN,VGGNet, GoogleNet, MobileNet, effiNet 등 최신 모델은 영상 분류의 목적을 두고 많은 convolution \n",
    "Layer를 쌓았지만, 최적화되었다고 하더라도, 시간도 오래걸리고 이해하기 힘든 복잡한 model을 쓰는 것보다는 간단한 model로 이미지를 분류해\n",
    "보자라는 생각에 비교적 간단한 VGGNet을 바탕으로 model을 작성했습니다. VGGNet은 16과 19 두가지가 있는데, convolution layer의 갯수에 따라 달라집니다. 하지만 cifar 10의 데이터는 해상도가 낮은 데이터이기 때문에 그렇게 많은 layer가 필요없다고 판단하였습니다. 그리고 전 모델과 비교하면 전 모델은 kernel size를 크게 하였다가 줄여나가면서 하지 않고 작은 단위의 kernel인 3X3 kernel을 사용하는 것과 Padding을 이용하여 data size가 일정하게 유지되도록 하는 것이 차이점인데 이를 이용하여 모델을 구상하였습니다. 처음에는 convolution Layer와 maxpool, fully connected layer로 구성된 CNN을 이용해 학습시켰는데, 정확도가 높지 않아, convolution layer를 추가하였고 이 경우에 parameter들이 많다보니 2번의 epoch에도 overfitting 되어 convolution layer와 fully connected layer에 dropout을 (뒤의 layer에 확률을 높여가며) 적용하여 overfitting을 줄였습니다. 그 결과 18번째에 정확도 77%정도에 overfitting이 일어나도록 늦출 수 있었습니다. 또, layer가 쌓일 수록 분산이 변화하는 것을 방지하는 batchnormalization을 추가해보았는데, 전과 후의 변화가 크지 않다보니 제외하고 완성했습니다. 결론적으로 5개의 convolution layer와 3번의 maxpool 그리고 fully connected layer 로 구성하였고, optimizer, criterion, activation 함수로는 각각 adam, cross entropy, ReLU를 사용하였습니다. 정확도를 높이기 위해 더 해볼 수 있는 것은 더 다양한 model을 바꿔 진행해보는 것과 upsampling을 하여 fully connected에 들어가는 data의 size를 크게 해보는 것, layer를 더 쌓고 batchnormalization을 해보는 것, 이미지 전처리를 해보는 것 등이 있을 것 같습니다. \n",
    "두개의 convolution layer을 쌓았을 때, 50%대 였던 정확도에 비해 70%정도면 만족스러운 결과라고 생각하고, pytorch tutorial에서 제공하는 결과를 보면 (https://tutorials.pytorch.kr/beginner/blitz/cifar10_tutorial.html) category 별로 CNN이 구별하기 힘든 데이터가 있기 때문에 위 코드처럼 간단한 CNN 구조로는 더 높은 정확도는 나오기 힘들다고 생각됩니다. \n"
   ]
  },
  {
   "cell_type": "code",
   "execution_count": null,
   "id": "ace66bc2",
   "metadata": {},
   "outputs": [],
   "source": []
  }
 ],
 "metadata": {
  "kernelspec": {
   "display_name": "Python 3 (ipykernel)",
   "language": "python",
   "name": "python3"
  },
  "language_info": {
   "codemirror_mode": {
    "name": "ipython",
    "version": 3
   },
   "file_extension": ".py",
   "mimetype": "text/x-python",
   "name": "python",
   "nbconvert_exporter": "python",
   "pygments_lexer": "ipython3",
   "version": "3.9.7"
  }
 },
 "nbformat": 4,
 "nbformat_minor": 5
}
