{
 "cells": [
  {
   "cell_type": "markdown",
   "id": "db626080",
   "metadata": {},
   "source": [
    "# Gradient Descent\n",
    "$ f(x)=\\frac{1}{2}x^4-3x^3 $"
   ]
  },
  {
   "cell_type": "code",
   "execution_count": 1,
   "id": "7f50b9ee",
   "metadata": {},
   "outputs": [],
   "source": [
    "import numpy as np\n",
    "import matplotlib.pyplot as plt"
   ]
  },
  {
   "cell_type": "code",
   "execution_count": 2,
   "id": "ee78e23f",
   "metadata": {},
   "outputs": [],
   "source": [
    "def f(x):\n",
    "    return 0.5*x**4 - 3*x**3 #funtion to find global minimum"
   ]
  },
  {
   "cell_type": "code",
   "execution_count": 3,
   "id": "30b09b51",
   "metadata": {},
   "outputs": [],
   "source": [
    "gam=0.02 #Learning rate\n",
    "n=1000  #반복횟수\n",
    "x0=-5  #초기값\n",
    "for i in range(n):\n",
    "    df = 2*x0**3 - 9*x0**2  #slope\n",
    "    x0 = x0 - gam*df"
   ]
  },
  {
   "cell_type": "code",
   "execution_count": 4,
   "id": "0a003fce",
   "metadata": {},
   "outputs": [
    {
     "data": {
      "text/plain": [
       "[<matplotlib.lines.Line2D at 0x218f7133310>]"
      ]
     },
     "execution_count": 4,
     "metadata": {},
     "output_type": "execute_result"
    },
    {
     "data": {
      "image/png": "[encoded data removed]",
      "text/plain": [
       "<Figure size 432x288 with 1 Axes>"
      ]
     },
     "metadata": {
      "needs_background": "light"
     },
     "output_type": "display_data"
    }
   ],
   "source": [
    "x = np.arange(-10,10,0.01)\n",
    "plt.ylim(-100,100)\n",
    "plt.xlim(-5,7)\n",
    "plt.plot(x,f(x))\n",
    "plt.plot(x0,f(x0),'o')"
   ]
  },
  {
   "cell_type": "code",
   "execution_count": 21,
   "id": "affd00d2",
   "metadata": {},
   "outputs": [
    {
     "data": {
      "text/plain": [
       "(4.5, -68.34375)"
      ]
     },
     "execution_count": 21,
     "metadata": {},
     "output_type": "execute_result"
    }
   ],
   "source": [
    "x0,f(x0) #최저점"
   ]
  },
  {
   "cell_type": "markdown",
   "id": "cd26677b",
   "metadata": {},
   "source": [
    "# Diabetes (regression)\n",
    "$ y=w_0+w_1x_1+w_2x_2+w_3x_3 $"
   ]
  },
  {
   "cell_type": "code",
   "execution_count": 5,
   "id": "90bdfb17",
   "metadata": {},
   "outputs": [],
   "source": [
    "from sklearn import datasets"
   ]
  },
  {
   "cell_type": "code",
   "execution_count": 6,
   "id": "84a07105",
   "metadata": {},
   "outputs": [],
   "source": [
    "diabetes= datasets.load_diabetes()"
   ]
  },
  {
   "cell_type": "code",
   "execution_count": 7,
   "id": "9f382f1d",
   "metadata": {
    "scrolled": true
   },
   "outputs": [],
   "source": [
    "X_age=diabetes.data[:,0] # 나이\n",
    "X_bmi=diabetes.data[:,2] # BMI\n",
    "X_p=diabetes.data[:,3] # 혈압\n",
    "Y = diabetes.target"
   ]
  },
  {
   "cell_type": "code",
   "execution_count": 8,
   "id": "534721c4",
   "metadata": {},
   "outputs": [
    {
     "data": {
      "text/plain": [
       "[<matplotlib.lines.Line2D at 0x218f8cf0d60>]"
      ]
     },
     "execution_count": 8,
     "metadata": {},
     "output_type": "execute_result"
    },
    {
     "data": {
      "image/png": "[encoded data removed]",
      "text/plain": [
       "<Figure size 432x288 with 1 Axes>"
      ]
     },
     "metadata": {
      "needs_background": "light"
     },
     "output_type": "display_data"
    }
   ],
   "source": [
    "plt.xlim(-3,3)  #대략적으로 어떤 식에 회귀해야하는지 판단하기 위함\n",
    "plt.ylim(0,550)\n",
    "plt.plot(X_age,Y,'o',color='red')\n",
    "plt.plot(X_p,Y,'o',color='blue')\n",
    "plt.plot(X_bmi,Y,'o',color='green')"
   ]
  },
  {
   "cell_type": "markdown",
   "id": "7f5726ae",
   "metadata": {},
   "source": [
    "## Code without sklearn(1):normal equation\n",
    "$ W=(X^TX)^{-1}X^TY $"
   ]
  },
  {
   "cell_type": "code",
   "execution_count": 9,
   "id": "a87df777",
   "metadata": {},
   "outputs": [
    {
     "data": {
      "text/plain": [
       "(4, 442)"
      ]
     },
     "execution_count": 9,
     "metadata": {},
     "output_type": "execute_result"
    }
   ],
   "source": [
    "X0=np.ones(442)\n",
    "XT=np.array([X0,X_age,X_bmi,X_p])\n",
    "np.shape(XT)"
   ]
  },
  {
   "cell_type": "code",
   "execution_count": 10,
   "id": "9364a07f",
   "metadata": {},
   "outputs": [
    {
     "data": {
      "text/plain": [
       "(442, 4)"
      ]
     },
     "execution_count": 10,
     "metadata": {},
     "output_type": "execute_result"
    }
   ],
   "source": [
    "X=np.transpose(XT)\n",
    "np.shape(X)"
   ]
  },
  {
   "cell_type": "code",
   "execution_count": 11,
   "id": "f1c36169",
   "metadata": {},
   "outputs": [
    {
     "data": {
      "text/plain": [
       "array([152.13348416,  25.99093614, 788.78062759, 394.1276443 ])"
      ]
     },
     "execution_count": 11,
     "metadata": {},
     "output_type": "execute_result"
    }
   ],
   "source": [
    "W=np.linalg.inv(np.dot(XT,X)).dot(XT).dot(Y)\n",
    "W"
   ]
  },
  {
   "cell_type": "markdown",
   "id": "dc75d598",
   "metadata": {},
   "source": [
    "## Code without sklearn(2) : gradient descent\n",
    "\n",
    "$ {\\partial \\over \\partial W}E(W)= {2\\over N} X^T (XW-Y)$"
   ]
  },
  {
   "cell_type": "code",
   "execution_count": 12,
   "id": "c5811961",
   "metadata": {},
   "outputs": [],
   "source": [
    "gam= 0.003 # learning rate\n",
    "W_initial=np.array([150,20,700,400]) # 초기값"
   ]
  },
  {
   "cell_type": "code",
   "execution_count": 13,
   "id": "66642f8b",
   "metadata": {},
   "outputs": [],
   "source": [
    "for i in range(1500):\n",
    "    grad=np.dot(XT,np.dot(X,W_initial)-Y)\n",
    "    W_initial=W_initial-gam*grad"
   ]
  },
  {
   "cell_type": "code",
   "execution_count": 14,
   "id": "9e2e5a68",
   "metadata": {},
   "outputs": [
    {
     "data": {
      "text/plain": [
       "array([152.13348416,  25.41391063, 785.65139602, 397.29588969])"
      ]
     },
     "execution_count": 14,
     "metadata": {},
     "output_type": "execute_result"
    }
   ],
   "source": [
    "W_initial"
   ]
  },
  {
   "cell_type": "markdown",
   "id": "121c04f8",
   "metadata": {},
   "source": [
    "## Code with sklearn"
   ]
  },
  {
   "cell_type": "code",
   "execution_count": 15,
   "id": "8cf0d61d",
   "metadata": {},
   "outputs": [
    {
     "data": {
      "text/plain": [
       "LinearRegression()"
      ]
     },
     "execution_count": 15,
     "metadata": {},
     "output_type": "execute_result"
    }
   ],
   "source": [
    "from sklearn.linear_model import LinearRegression\n",
    "diab=LinearRegression()\n",
    "XT=np.array([X_age,X_bmi,X_p])\n",
    "diab.fit(np.transpose(XT),Y)"
   ]
  },
  {
   "cell_type": "code",
   "execution_count": 16,
   "id": "d8ff077e",
   "metadata": {},
   "outputs": [
    {
     "data": {
      "text/plain": [
       "array([ 25.99093614, 788.78062759, 394.1276443 ])"
      ]
     },
     "execution_count": 16,
     "metadata": {},
     "output_type": "execute_result"
    }
   ],
   "source": [
    "diab.coef_"
   ]
  },
  {
   "cell_type": "code",
   "execution_count": 17,
   "id": "216dd1a9",
   "metadata": {
    "scrolled": true
   },
   "outputs": [
    {
     "data": {
      "text/plain": [
       "152.13348416289654"
      ]
     },
     "execution_count": 17,
     "metadata": {},
     "output_type": "execute_result"
    }
   ],
   "source": [
    "diab.intercept_"
   ]
  },
  {
   "cell_type": "code",
   "execution_count": 18,
   "id": "fe1fbf94",
   "metadata": {},
   "outputs": [
    {
     "data": {
      "text/plain": [
       "array([152.13348416,  25.99093614, 788.78062759, 394.1276443 ])"
      ]
     },
     "execution_count": 18,
     "metadata": {},
     "output_type": "execute_result"
    }
   ],
   "source": [
    "W_sckit=np.append(diab.intercept_,diab.coef_)\n",
    "W_sckit"
   ]
  },
  {
   "cell_type": "markdown",
   "id": "79bc0e78",
   "metadata": {},
   "source": [
    "## Concluding"
   ]
  },
  {
   "cell_type": "code",
   "execution_count": 19,
   "id": "5ccea6b6",
   "metadata": {},
   "outputs": [],
   "source": [
    "def y_predict(c,x1,x2,x3): # 예측값, c는 w(regression의 계수)의 행렬\n",
    "    x=np.array([1,x1,x2,x3])\n",
    "    return np.dot(c,x)\n",
    "def MSE(c):\n",
    "    mse=0\n",
    "    for i in range (len(Y)):\n",
    "        mse=mse+(Y[i]-y_predict(c,X_age[i],X_bmi[i],X_p[i]))**2\n",
    "    return mse/len(Y)"
   ]
  },
  {
   "cell_type": "code",
   "execution_count": 20,
   "id": "c2bf55ad",
   "metadata": {},
   "outputs": [
    {
     "data": {
      "text/plain": [
       "(3580.3338024983323, 3580.360418706362, 3580.3338024983323)"
      ]
     },
     "execution_count": 20,
     "metadata": {},
     "output_type": "execute_result"
    }
   ],
   "source": [
    "MSE(W),MSE(W_initial),MSE(W_sckit)"
   ]
  },
  {
   "cell_type": "code",
   "execution_count": null,
   "id": "6380b2cb",
   "metadata": {},
   "outputs": [],
   "source": []
  }
 ],
 "metadata": {
  "kernelspec": {
   "display_name": "Python 3",
   "language": "python",
   "name": "python3"
  },
  "language_info": {
   "codemirror_mode": {
    "name": "ipython",
    "version": 3
   },
   "file_extension": ".py",
   "mimetype": "text/x-python",
   "name": "python",
   "nbconvert_exporter": "python",
   "pygments_lexer": "ipython3",
   "version": "3.8.8"
  }
 },
 "nbformat": 4,
 "nbformat_minor": 5
}
