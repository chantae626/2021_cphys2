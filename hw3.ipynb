{
 "cells": [
  {
   "cell_type": "markdown",
   "id": "7a1734a1",
   "metadata": {},
   "source": [
    "# OR\n",
    "단층 percentron을 이용하여 다음의 데이터를 분류하여라."
   ]
  },
  {
   "cell_type": "code",
   "execution_count": 3,
   "id": "5a3c32aa",
   "metadata": {},
   "outputs": [],
   "source": [
    "import numpy as np\n",
    "import matplotlib.pyplot as plt\n",
    "\n",
    "X = np.array([[0,0],[1,0],[0,1],[1,1]])\n",
    "y = np.array([0,1,1,1])\n",
    "\n",
    "def perc(x):\n",
    "    if np.dot(w,x)+b >=0:\n",
    "        return 1\n",
    "    else:\n",
    "        return 0"
   ]
  },
  {
   "cell_type": "markdown",
   "id": "fdc49509",
   "metadata": {},
   "source": [
    "## Perceptron : use gradient descent"
   ]
  },
  {
   "cell_type": "markdown",
   "id": "24e8295c",
   "metadata": {},
   "source": [
    "$$ w_i -> w_i+\\eta(t-y)x_i, (x_0=1,w_i=b) $$"
   ]
  },
  {
   "cell_type": "code",
   "execution_count": 4,
   "id": "735be966",
   "metadata": {},
   "outputs": [],
   "source": [
    "w,b=[0,-1],0\n",
    "eta=0.1\n",
    "for j in range(100000):\n",
    "    error_sum=0\n",
    "    temp=j\n",
    "    for i in range(4):\n",
    "        error = (y[i]-perc(X[i]))\n",
    "        w[0]=w[0]+eta*error*X[i,0] # 입력노드: 노드 2개, 편향노드 1개\n",
    "        w[1]=w[1]+eta*error*X[i,1]\n",
    "        b=b+eta*error\n",
    "        error_sum=error_sum+error**2\n",
    "    if error_sum==0:\n",
    "        break"
   ]
  },
  {
   "cell_type": "code",
   "execution_count": 5,
   "id": "6edc89fa",
   "metadata": {},
   "outputs": [
    {
     "data": {
      "text/plain": [
       "(0, 1, 1, 1)"
      ]
     },
     "execution_count": 5,
     "metadata": {},
     "output_type": "execute_result"
    }
   ],
   "source": [
    "perc(X[0]),perc(X[1]),perc(X[2]),perc(X[3])"
   ]
  },
  {
   "cell_type": "markdown",
   "id": "21195694",
   "metadata": {},
   "source": [
    "## Iris classifications\n",
    "단층 perceptron을 이용하여 다음의 데이터를 분류하여라"
   ]
  },
  {
   "cell_type": "code",
   "execution_count": 6,
   "id": "0d8f1f62",
   "metadata": {},
   "outputs": [],
   "source": [
    "from sklearn import datasets\n",
    "iris = datasets.load_iris() # 분꽃\n",
    "X=iris.data # input data # the number of input nodes = 4\n",
    "y=np.where(iris.target>0,1,0) # 0(setosa) 과 1(setosa 외) 로 분류"
   ]
  },
  {
   "cell_type": "code",
   "execution_count": 7,
   "id": "931035b1",
   "metadata": {},
   "outputs": [],
   "source": [
    "w,b=[4,-5,6,-7],8\n",
    "eta=0.1\n",
    "for j in range(1000):\n",
    "    error_sum=0\n",
    "    for i in range(len(y)):\n",
    "        error = (y[i]-perc(X[i]))\n",
    "        w[0]=w[0]+eta*error*X[i,0] #입력 노드: 노드4개, 편향 노드 1개\n",
    "        w[1]=w[1]+eta*error*X[i,1] \n",
    "        w[2]=w[2]+eta*error*X[i,2]\n",
    "        w[3]=w[3]+eta*error*X[i,3]\n",
    "        b=b+eta*error\n",
    "        error_sum=error_sum+error**2 \n",
    "    n=j #몇번 시행되었는지 확인하기 위함\n",
    "    if error_sum==0: # Error의 제곱값이 0이 되면 멈추도록 \n",
    "        break"
   ]
  },
  {
   "cell_type": "code",
   "execution_count": 8,
   "id": "181fc5d0",
   "metadata": {
    "scrolled": true
   },
   "outputs": [
    {
     "data": {
      "text/plain": [
       "([0.8499999999999999, -7.13, 5.540000000000002, -6.899999999999997],\n",
       " 7.3000000000000025,\n",
       " 3)"
      ]
     },
     "execution_count": 8,
     "metadata": {},
     "output_type": "execute_result"
    }
   ],
   "source": [
    "w,b,n"
   ]
  },
  {
   "cell_type": "code",
   "execution_count": 9,
   "id": "cbd1e267",
   "metadata": {
    "scrolled": false
   },
   "outputs": [
    {
     "data": {
      "text/plain": [
       "0"
      ]
     },
     "execution_count": 9,
     "metadata": {},
     "output_type": "execute_result"
    }
   ],
   "source": [
    "temp=0 \n",
    "# 퍼셉트론 학습이 제대로 되었는지 확인하기 위함\n",
    "for i in range(150):\n",
    "    if y[i]-perc(X[i]) != 0:\n",
    "        temp+=1\n",
    "    else:\n",
    "        temp+=0\n",
    "temp"
   ]
  },
  {
   "cell_type": "code",
   "execution_count": null,
   "id": "651d7c27",
   "metadata": {},
   "outputs": [],
   "source": []
  }
 ],
 "metadata": {
  "kernelspec": {
   "display_name": "Python 3",
   "language": "python",
   "name": "python3"
  },
  "language_info": {
   "codemirror_mode": {
    "name": "ipython",
    "version": 3
   },
   "file_extension": ".py",
   "mimetype": "text/x-python",
   "name": "python",
   "nbconvert_exporter": "python",
   "pygments_lexer": "ipython3",
   "version": "3.8.8"
  }
 },
 "nbformat": 4,
 "nbformat_minor": 5
}
